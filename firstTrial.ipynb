{
  "nbformat": 4,
  "nbformat_minor": 0,
  "metadata": {
    "colab": {
      "name": "firstTrial.ipynb",
      "provenance": [],
      "authorship_tag": "ABX9TyPRztR4iDHkFLX7bJbRqpU9",
      "include_colab_link": true
    },
    "kernelspec": {
      "name": "python3",
      "display_name": "Python 3"
    }
  },
  "cells": [
    {
      "cell_type": "markdown",
      "metadata": {
        "id": "view-in-github",
        "colab_type": "text"
      },
      "source": [
        "<a href=\"https://colab.research.google.com/github/Tevy-B/Object-Dectection-with-Images-Videos-and-Live-Camera/blob/main/firstTrial.ipynb\" target=\"_parent\"><img src=\"https://colab.research.google.com/assets/colab-badge.svg\" alt=\"Open In Colab\"/></a>"
      ]
    },
    {
      "cell_type": "code",
      "metadata": {
        "id": "8F4fct1QXsmi"
      },
      "source": [
        "import cv2 # pip install opencv-python"
      ],
      "execution_count": 7,
      "outputs": []
    },
    {
      "cell_type": "code",
      "metadata": {
        "id": "KFS2CscOYG3U"
      },
      "source": [
        "import matplotlib.pyplot as plt # pip install matplotlib"
      ],
      "execution_count": 2,
      "outputs": []
    },
    {
      "cell_type": "code",
      "metadata": {
        "id": "UTKHsuG0YQxI"
      },
      "source": [
        "config_file = 'ssd_mobilenet_v3_large_coco_2020_01_14.pbtxt'\r\n",
        "frozen_model = 'frozen_inference_graph.pb'"
      ],
      "execution_count": 4,
      "outputs": []
    },
    {
      "cell_type": "code",
      "metadata": {
        "colab": {
          "base_uri": "https://localhost:8080/",
          "height": 279
        },
        "id": "MZiQeF2DYr6v",
        "outputId": "5bed9f50-bc98-42c4-c4d1-bf55118c4aec"
      },
      "source": [
        "model = cv2.dnn_DetectionModel(frozen_model,config_file)"
      ],
      "execution_count": 8,
      "outputs": [
        {
          "output_type": "error",
          "ename": "SystemError",
          "evalue": "ignored",
          "traceback": [
            "\u001b[0;31m---------------------------------------------------------------------------\u001b[0m",
            "\u001b[0;31merror\u001b[0m                                     Traceback (most recent call last)",
            "\u001b[0;31merror\u001b[0m: OpenCV(4.1.2) /io/opencv/modules/dnn/src/caffe/caffe_io.cpp:1132: error: (-2:Unspecified error) FAILED: fs.is_open(). Can't open \"frozen_inference_graph.pb\" in function 'ReadProtoFromBinaryFile'\n",
            "\nThe above exception was the direct cause of the following exception:\n",
            "\u001b[0;31mSystemError\u001b[0m                               Traceback (most recent call last)",
            "\u001b[0;32m<ipython-input-8-4d856c1e9541>\u001b[0m in \u001b[0;36m<module>\u001b[0;34m()\u001b[0m\n\u001b[0;32m----> 1\u001b[0;31m \u001b[0mmodel\u001b[0m \u001b[0;34m=\u001b[0m \u001b[0mcv2\u001b[0m\u001b[0;34m.\u001b[0m\u001b[0mdnn_DetectionModel\u001b[0m\u001b[0;34m(\u001b[0m\u001b[0mfrozen_model\u001b[0m\u001b[0;34m,\u001b[0m\u001b[0mconfig_file\u001b[0m\u001b[0;34m)\u001b[0m\u001b[0;34m\u001b[0m\u001b[0;34m\u001b[0m\u001b[0m\n\u001b[0m",
            "\u001b[0;31mSystemError\u001b[0m: <class 'cv2.dnn_DetectionModel'> returned a result with an error set"
          ]
        }
      ]
    },
    {
      "cell_type": "code",
      "metadata": {
        "colab": {
          "base_uri": "https://localhost:8080/",
          "height": 229
        },
        "id": "HN5re6pfY0-R",
        "outputId": "916cb1e4-2f81-40b0-80bd-0662520436a4"
      },
      "source": [
        "classLabels = [] # empty list - python\r\n",
        "file_name = 'Labels.txt'\r\n",
        "with open(file_name, 'rt') as fpt:\r\n",
        "  classLabels = fpt.read().rstrip('\\n').split('\\n')\r\n",
        "  #classLables.append(fpt.read())"
      ],
      "execution_count": 9,
      "outputs": [
        {
          "output_type": "error",
          "ename": "FileNotFoundError",
          "evalue": "ignored",
          "traceback": [
            "\u001b[0;31m---------------------------------------------------------------------------\u001b[0m",
            "\u001b[0;31mFileNotFoundError\u001b[0m                         Traceback (most recent call last)",
            "\u001b[0;32m<ipython-input-9-cfec7f4e72ce>\u001b[0m in \u001b[0;36m<module>\u001b[0;34m()\u001b[0m\n\u001b[1;32m      1\u001b[0m \u001b[0mclassLabels\u001b[0m \u001b[0;34m=\u001b[0m \u001b[0;34m[\u001b[0m\u001b[0;34m]\u001b[0m \u001b[0;31m# empty list - python\u001b[0m\u001b[0;34m\u001b[0m\u001b[0;34m\u001b[0m\u001b[0m\n\u001b[1;32m      2\u001b[0m \u001b[0mfile_name\u001b[0m \u001b[0;34m=\u001b[0m \u001b[0;34m'Labels.txt'\u001b[0m\u001b[0;34m\u001b[0m\u001b[0;34m\u001b[0m\u001b[0m\n\u001b[0;32m----> 3\u001b[0;31m \u001b[0;32mwith\u001b[0m \u001b[0mopen\u001b[0m\u001b[0;34m(\u001b[0m\u001b[0mfile_name\u001b[0m\u001b[0;34m,\u001b[0m \u001b[0;34m'rt'\u001b[0m\u001b[0;34m)\u001b[0m \u001b[0;32mas\u001b[0m \u001b[0mfpt\u001b[0m\u001b[0;34m:\u001b[0m\u001b[0;34m\u001b[0m\u001b[0;34m\u001b[0m\u001b[0m\n\u001b[0m\u001b[1;32m      4\u001b[0m   \u001b[0mclassLabels\u001b[0m \u001b[0;34m=\u001b[0m \u001b[0mfpt\u001b[0m\u001b[0;34m.\u001b[0m\u001b[0mread\u001b[0m\u001b[0;34m(\u001b[0m\u001b[0;34m)\u001b[0m\u001b[0;34m.\u001b[0m\u001b[0mrstrip\u001b[0m\u001b[0;34m(\u001b[0m\u001b[0;34m'\\n'\u001b[0m\u001b[0;34m)\u001b[0m\u001b[0;34m.\u001b[0m\u001b[0msplit\u001b[0m\u001b[0;34m(\u001b[0m\u001b[0;34m'\\n'\u001b[0m\u001b[0;34m)\u001b[0m\u001b[0;34m\u001b[0m\u001b[0;34m\u001b[0m\u001b[0m\n\u001b[1;32m      5\u001b[0m   \u001b[0;31m#classLables.append(fpt.read())\u001b[0m\u001b[0;34m\u001b[0m\u001b[0;34m\u001b[0m\u001b[0;34m\u001b[0m\u001b[0m\n",
            "\u001b[0;31mFileNotFoundError\u001b[0m: [Errno 2] No such file or directory: 'Labels.txt'"
          ]
        }
      ]
    },
    {
      "cell_type": "code",
      "metadata": {
        "id": "B1tjuuR_aVbo"
      },
      "source": [
        "print(classLabels)"
      ],
      "execution_count": null,
      "outputs": []
    },
    {
      "cell_type": "code",
      "metadata": {
        "id": "jOEhavK_aZOy"
      },
      "source": [
        "print(len(classLabels))"
      ],
      "execution_count": null,
      "outputs": []
    },
    {
      "cell_type": "code",
      "metadata": {
        "id": "ddUAls-mbCIN"
      },
      "source": [
        "model.setInputSize(320,320)\r\n",
        "model.setInputScale(1.0/127.5) ##255/2 = 127.5\r\n",
        "model.setInputMean(127.5, 127.5, 127.5) ## mobilenet => [-1,1]\r\n",
        "model.setInputSwapRB(TRUE)"
      ],
      "execution_count": null,
      "outputs": []
    },
    {
      "cell_type": "markdown",
      "metadata": {
        "id": "MmKC5v41adoU"
      },
      "source": [
        "# **Read An Image**\r\n"
      ]
    },
    {
      "cell_type": "code",
      "metadata": {
        "id": "CIS-Iimxan5q"
      },
      "source": [
        "img = cv2.imread('man_and_car.jpg')"
      ],
      "execution_count": null,
      "outputs": []
    },
    {
      "cell_type": "code",
      "metadata": {
        "id": "KEMbWdk7a5RW"
      },
      "source": [
        "plt.imshow(img) ## bgr"
      ],
      "execution_count": null,
      "outputs": []
    },
    {
      "cell_type": "code",
      "metadata": {
        "id": "hit_MyGHbkev"
      },
      "source": [
        "ClassIndex, confidece, bbox = model.direct(img,confThreshold=0.5)"
      ],
      "execution_count": null,
      "outputs": []
    },
    {
      "cell_type": "code",
      "metadata": {
        "id": "TUViM56xbzuO"
      },
      "source": [
        "print(ClassIndex)"
      ],
      "execution_count": null,
      "outputs": []
    },
    {
      "cell_type": "code",
      "metadata": {
        "id": "RENrhQdLb4MI"
      },
      "source": [
        "font_scale =3\r\n",
        "font = cv2.FONT_HERSHEY_PLAIN\r\n",
        "for ClassInd, conf, boxes in zip(ClassIndex.flattern(), confidece.flattern(), bbox):\r\n",
        "  cv2.rectangle(img, boxes, (255, 0, 0), 2)\r\n",
        "  cv2.putText(img, classLabels[ClassInd-1]), (boxes[0]+10+box[1]+40), font, fontScale=font_scale,color=(0,255,0), thickness=3)"
      ],
      "execution_count": null,
      "outputs": []
    },
    {
      "cell_type": "code",
      "metadata": {
        "id": "t5g1-yiudCSV"
      },
      "source": [
        "plt.imshow(cv2.cvtColor(img, cv2.Color(img, cv2.COLOR_BGR2RGB)))"
      ],
      "execution_count": null,
      "outputs": []
    }
  ]
}