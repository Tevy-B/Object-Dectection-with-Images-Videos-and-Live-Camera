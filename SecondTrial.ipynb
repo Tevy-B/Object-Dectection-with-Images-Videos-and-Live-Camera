{
  "nbformat": 4,
  "nbformat_minor": 0,
  "metadata": {
    "colab": {
      "name": "SecondTrial.ipynb",
      "provenance": [],
      "collapsed_sections": [],
      "authorship_tag": "ABX9TyPLXHtKKxAnMJjQaHbjy6nj",
      "include_colab_link": true
    },
    "kernelspec": {
      "name": "python3",
      "display_name": "Python 3"
    }
  },
  "cells": [
    {
      "cell_type": "markdown",
      "metadata": {
        "id": "view-in-github",
        "colab_type": "text"
      },
      "source": [
        "<a href=\"https://colab.research.google.com/github/Tevy-B/Object-Dectection-with-Images-Videos-and-Live-Camera/blob/main/SecondTrial.ipynb\" target=\"_parent\"><img src=\"https://colab.research.google.com/assets/colab-badge.svg\" alt=\"Open In Colab\"/></a>"
      ]
    },
    {
      "cell_type": "code",
      "metadata": {
        "id": "8F4fct1QXsmi"
      },
      "source": [
        "import cv2 # pip install opencv-python"
      ],
      "execution_count": null,
      "outputs": []
    },
    {
      "cell_type": "code",
      "metadata": {
        "id": "KFS2CscOYG3U"
      },
      "source": [
        "import matplotlib.pyplot as plt # pip install matplotlib"
      ],
      "execution_count": null,
      "outputs": []
    },
    {
      "cell_type": "code",
      "metadata": {
        "id": "UTKHsuG0YQxI"
      },
      "source": [
        "config_file = 'ssd_mobilenet_v3_large_coco_2020_01_14.pbtxt'\r\n",
        "frozen_model = 'frozen_inference_graph.pb'"
      ],
      "execution_count": null,
      "outputs": []
    },
    {
      "cell_type": "code",
      "metadata": {
        "id": "MZiQeF2DYr6v"
      },
      "source": [
        "model = cv2.dnn_DetectionModel(frozen_model,config_file)"
      ],
      "execution_count": null,
      "outputs": []
    },
    {
      "cell_type": "code",
      "metadata": {
        "id": "HN5re6pfY0-R"
      },
      "source": [
        "classLabels = [] # empty list - python\r\n",
        "file_name = 'Labels.txt'\r\n",
        "with open(file_name, 'rt') as fpt:\r\n",
        "  classLabels = fpt.read().rstrip('\\n').split('\\n')\r\n",
        "  #classLables.append(fpt.read())"
      ],
      "execution_count": null,
      "outputs": []
    },
    {
      "cell_type": "code",
      "metadata": {
        "colab": {
          "base_uri": "https://localhost:8080/"
        },
        "id": "B1tjuuR_aVbo",
        "outputId": "ab93cb83-7ce1-4dd9-dd87-4a137af01753"
      },
      "source": [
        "print(classLabels)"
      ],
      "execution_count": null,
      "outputs": [
        {
          "output_type": "stream",
          "text": [
            "[]\n"
          ],
          "name": "stdout"
        }
      ]
    },
    {
      "cell_type": "code",
      "metadata": {
        "colab": {
          "base_uri": "https://localhost:8080/"
        },
        "id": "jOEhavK_aZOy",
        "outputId": "1d2ec233-1e97-4fd3-dbd5-f7e1a1571e0a"
      },
      "source": [
        "print(len(classLabels))"
      ],
      "execution_count": null,
      "outputs": [
        {
          "output_type": "stream",
          "text": [
            "0\n"
          ],
          "name": "stdout"
        }
      ]
    },
    {
      "cell_type": "code",
      "metadata": {
        "id": "ddUAls-mbCIN"
      },
      "source": [
        "model.setInputSize(320,320)\r\n",
        "model.setInputScale(1.0/127.5) ##255/2 = 127.5\r\n",
        "model.setInputMean(127.5, 127.5, 127.5) ## mobilenet => [-1,1]\r\n",
        "model.setInputSwapRB(TRUE)"
      ],
      "execution_count": null,
      "outputs": []
    },
    {
      "cell_type": "markdown",
      "metadata": {
        "id": "MmKC5v41adoU"
      },
      "source": [
        "# **Read An Image**\r\n"
      ]
    },
    {
      "cell_type": "code",
      "metadata": {
        "id": "CIS-Iimxan5q"
      },
      "source": [
        "img = cv2.imread('street_view.png')"
      ],
      "execution_count": null,
      "outputs": []
    },
    {
      "cell_type": "code",
      "metadata": {
        "id": "KEMbWdk7a5RW"
      },
      "source": [
        "plt.imshow(img) ## bgr"
      ],
      "execution_count": null,
      "outputs": []
    },
    {
      "cell_type": "code",
      "metadata": {
        "id": "hit_MyGHbkev"
      },
      "source": [
        "ClassIndex, confidece, bbox = model.direct(img,confThreshold=0.5)"
      ],
      "execution_count": null,
      "outputs": []
    },
    {
      "cell_type": "code",
      "metadata": {
        "id": "TUViM56xbzuO"
      },
      "source": [
        "print(ClassIndex)"
      ],
      "execution_count": null,
      "outputs": []
    },
    {
      "cell_type": "code",
      "metadata": {
        "id": "RENrhQdLb4MI"
      },
      "source": [
        "font_scale =3\r\n",
        "font = cv2.FONT_HERSHEY_PLAIN\r\n",
        "for ClassInd, conf, boxes in zip(ClassIndex.flattern(), confidece.flattern(), bbox):\r\n",
        "  cv2.rectangle(img, boxes, (255, 0, 0), 2)\r\n",
        "  cv2.putText(img, classLabels[ClassInd-1]), (boxes[0]+10+box[1]+40), font, fontScale=font_scale,color=(0,255,0), thickness=3)"
      ],
      "execution_count": null,
      "outputs": []
    },
    {
      "cell_type": "code",
      "metadata": {
        "id": "t5g1-yiudCSV"
      },
      "source": [
        "plt.imshow(cv2.cvtColor(img, cv2.Color(img, cv2.COLOR_BGR2RGB)))"
      ],
      "execution_count": null,
      "outputs": []
    },
    {
      "cell_type": "markdown",
      "metadata": {
        "id": "CtMrsEgcMSYT"
      },
      "source": [
        "# Read A Video"
      ]
    },
    {
      "cell_type": "code",
      "metadata": {
        "id": "PtdFn0C_MaDM"
      },
      "source": [
        "# for video demo -> enter the name of the video\r\n",
        "# for live Webcame demo -> enter the number of webcame(1 for laptops)\r\n",
        "cap = cv2.VideoCapture(\"video.mp4\") \r\n",
        "\r\n",
        "\r\n",
        "# Verify if the video is open correctly\r\n",
        "if not cap.isOpened():\r\n",
        "  cap = cv2.VideoCapture(0)\r\n",
        "if not cap.isOpened():\r\n",
        "  # for webcame change the message to \"Cannot open webcame\"\r\n",
        "  raise IDError(\"Cannot open video\")\r\n",
        "\r\n",
        "  font_scale = 3\r\n",
        "  font = cv2.FONT_HERSHEY_PLAIN\r\n",
        "\r\n",
        "  while True:\r\n",
        "    ret, frame = cap.read()\r\n",
        "\r\n",
        "    ClassIndex, confidence, bbox = model.detect(frame,confThreshold=0.55)\r\n",
        "\r\n",
        "    print(ClassIndex)\r\n",
        "    if(len(ClassIndex)=0):\r\n",
        "      for ClassInd, conf, boxes in zip(ClassIndex.flatten(), confidence.flatten(), bbox):\r\n",
        "        if(ClassInd<= 80):\r\n",
        "          cv2.rectangle(frame,boxes,(255, 0, 0),2 )\r\n",
        "          cv2.putText(frame,classLabels[ClassInd-1],(boxes[0]+10,boxes[1]+40, font, fontScale=font_scale, color=(0,255,0), thickness=3))\r\n",
        "\r\n",
        "      cv2.imshow('Object Detection Tutorial', frame)\r\n",
        "      if cv2.waitKey(2) & 0xFF == ord('q')\r\n",
        "        break\r\n",
        "\r\n",
        "      cap.release()\r\n",
        "      cv2.destroyAllWindows()"
      ],
      "execution_count": null,
      "outputs": []
    },
    {
      "cell_type": "code",
      "metadata": {
        "id": "8fM5gWJdMmMY"
      },
      "source": [
        "# Verify if the video is open correctly\r\n"
      ],
      "execution_count": null,
      "outputs": []
    }
  ]
}